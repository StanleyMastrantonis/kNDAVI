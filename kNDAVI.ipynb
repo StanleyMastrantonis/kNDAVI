{
 "cells": [
  {
   "cell_type": "markdown",
   "metadata": {},
   "source": [
    "### Libraries"
   ]
  },
  {
   "cell_type": "code",
   "execution_count": 1,
   "metadata": {},
   "outputs": [],
   "source": [
    "import numpy as np\n",
    "import geopandas as gpd\n",
    "import rasterio\n",
    "from rasterio import features\n",
    "from rasterstats import zonal_stats\n",
    "from glob import glob\n",
    "from osgeo import gdal\n",
    "import os\n",
    "import json"
   ]
  },
  {
   "cell_type": "markdown",
   "metadata": {},
   "source": [
    "### Folder and data paths"
   ]
  },
  {
   "cell_type": "code",
   "execution_count": 2,
   "metadata": {},
   "outputs": [],
   "source": [
    "# Current working directory\n",
    "cwd = os.getcwd()\n",
    "\n",
    "# Folder paths\n",
    "image_folder = os.path.join(cwd, \"Data\", \"Imagery\")  # Folder containing imagery data\n",
    "mosaic_folder = os.path.join(\n",
    "    image_folder, \"Mosaic\"\n",
    ")  # Folder that will contain the mosaic imagery\n",
    "\n",
    "# Create the mosaic_folder if it doesn't exist\n",
    "os.makedirs(mosaic_folder, exist_ok=True)\n",
    "\n",
    "# List of image files in the image_folder\n",
    "image_list = glob(os.path.join(image_folder, \"*.tif\"), recursive=True)\n",
    "\n",
    "# Path to the shapefile\n",
    "shp_path = os.path.join(cwd, \"Data\", \"Sites\", \"ICOAST_midwest.shp\")"
   ]
  },
  {
   "cell_type": "markdown",
   "metadata": {},
   "source": [
    "### Mosaic"
   ]
  },
  {
   "cell_type": "code",
   "execution_count": 3,
   "metadata": {},
   "outputs": [],
   "source": [
    "# List of image files to be mosaicked\n",
    "files_to_mosaic = image_list\n",
    "\n",
    "# Enable GDAL exceptions handling\n",
    "gdal.UseExceptions()\n",
    "\n",
    "# Perform mosaic operation using GDAL\n",
    "# Create a new raster mosaic file named 'Sentinel_mosaic.tif' in the mosaic_folder\n",
    "# Warp the listed image files to the new mosaic\n",
    "res = gdal.Warp(\n",
    "    os.path.join(mosaic_folder, \"Sentinel_mosaic.tif\"),\n",
    "    files_to_mosaic,\n",
    "    srcSRS=\"EPSG:4326\",\n",
    "    dstSRS=\"EPSG:4326\",\n",
    ")\n",
    "\n",
    "# Close the GDAL raster dataset to release resources\n",
    "res = None"
   ]
  },
  {
   "cell_type": "markdown",
   "metadata": {},
   "source": [
    "### Mean band differences"
   ]
  },
  {
   "cell_type": "code",
   "execution_count": 4,
   "metadata": {},
   "outputs": [],
   "source": [
    "# Open the raster stack (mosaic)\n",
    "rgb_stack = rasterio.open(os.path.join(mosaic_folder, \"Sentinel_mosaic.tif\"))\n",
    "\n",
    "# Extract metadata from the RGB stack\n",
    "profile = rgb_stack.meta\n",
    "\n",
    "# Update metadata to define data type, number of bands, compression, and nodata value\n",
    "profile.update(dtype=rasterio.float64, count=1, compress=\"lzw\", nodata=-9999)\n",
    "\n",
    "# Read specific bands (blue band and NIR band) from the RGB stack\n",
    "b2 = rgb_stack.read(2)\n",
    "b8 = rgb_stack.read(8)\n",
    "\n",
    "# Calculate the absolute difference between band 8 and band 2\n",
    "difference = abs(b8 - b2)\n",
    "\n",
    "# Define output directory for difference calculation\n",
    "difference_out = os.path.join(mosaic_folder, \"Zonal stats\")\n",
    "os.makedirs(difference_out, exist_ok=True)\n",
    "\n",
    "# Write the difference raster to a file\n",
    "with rasterio.open(\n",
    "    os.path.join(difference_out, \"difference.tif\"), \"w\", **profile\n",
    ") as dst:\n",
    "    dst.write_band(1, difference)\n",
    "\n",
    "# Perform zonal statistics using the shapefile and the difference raster\n",
    "zonal = zonal_stats(\n",
    "    shp_path,\n",
    "    os.path.join(difference_out, \"difference.tif\"),\n",
    "    stats=\"mean\",\n",
    "    geojson_out=True,\n",
    ")\n",
    "\n",
    "# Prepare GeoJSON output\n",
    "result = {\"type\": \"FeatureCollection\", \"features\": zonal}\n",
    "\n",
    "# Write zonal statistics result to a GeoJSON file\n",
    "with open(os.path.join(mosaic_folder, \"Zonal stats\", \"zonal.geojson\"), \"w\") as outfile:\n",
    "    json.dump(result, outfile)\n",
    "\n",
    "# Read GeoJSON file into a GeoDataFrame\n",
    "zonal_gjson = gpd.read_file(os.path.join(mosaic_folder, \"Zonal stats\", \"zonal.geojson\"))\n",
    "\n",
    "# Write GeoDataFrame to a shapefile\n",
    "zonal_gjson.to_file(os.path.join(mosaic_folder, \"Zonal stats\", \"mu_difference.shp\"))\n",
    "\n",
    "# Read the shapefile into a GeoDataFrame\n",
    "zonal_gpd = gpd.read_file(\n",
    "    os.path.join(mosaic_folder, \"Zonal stats\", \"mu_difference.shp\")\n",
    ")"
   ]
  },
  {
   "cell_type": "markdown",
   "metadata": {},
   "source": [
    "### Sigma calculation"
   ]
  },
  {
   "cell_type": "code",
   "execution_count": 5,
   "metadata": {},
   "outputs": [],
   "source": [
    "# Create a generator expression to iterate over geometry and values from the GeoDataFrame\n",
    "geom_value = (\n",
    "    (geom, value) for geom, value in zip(zonal_gpd.geometry, zonal_gpd[\"mean\"])\n",
    ")\n",
    "\n",
    "# Rasterize the geometries and values into a raster image\n",
    "rasterized = features.rasterize(\n",
    "    geom_value,\n",
    "    out_shape=rgb_stack.shape,\n",
    "    transform=rgb_stack.transform,\n",
    "    all_touched=True,\n",
    "    fill=-9999,  # Background value\n",
    "    dtype=np.float64,\n",
    ")\n",
    "\n",
    "sigma_folder = os.path.join(\n",
    "    mosaic_folder, \"Sigma\"\n",
    ")  # Folder that will contain the sigma imagery\n",
    "os.makedirs(sigma_folder, exist_ok=True)\n",
    "\n",
    "\n",
    "# Create a new raster file for Sigma values\n",
    "with rasterio.open(\n",
    "    os.path.join(mosaic_folder, \"Sigma\", \"Sigma.tif\"),\n",
    "    \"w\",\n",
    "    driver=\"GTiff\",\n",
    "    transform=rgb_stack.transform,\n",
    "    dtype=rasterio.float64,\n",
    "    count=1,\n",
    "    width=rgb_stack.width,\n",
    "    height=rgb_stack.height,\n",
    ") as dst:\n",
    "    # Write the rasterized data to the file\n",
    "    dst.write(rasterized, indexes=1)"
   ]
  },
  {
   "cell_type": "code",
   "execution_count": null,
   "metadata": {},
   "outputs": [],
   "source": [
    "### kNDAVI calculation"
   ]
  },
  {
   "cell_type": "code",
   "execution_count": 6,
   "metadata": {},
   "outputs": [],
   "source": [
    "# Open Sigma raster\n",
    "sigma_raster = rasterio.open(\n",
    "    os.path.join(mosaic_folder, \"Sigma\", \"Sigma.tif\"), nodata=-9999\n",
    ")\n",
    "sigma = sigma_raster.read(1)\n",
    "\n",
    "# Calculate knr\n",
    "with np.errstate(divide=\"ignore\", invalid=\"ignore\"):\n",
    "    knr = np.exp(-((b8 - b2) ** 2) / (2 * sigma**2))\n",
    "\n",
    "kndavi = (1 - knr) / (1 + knr)\n",
    "\n",
    "# Define output folder\n",
    "kndavi_out = os.path.join(mosaic_folder, \"kNDAVI\")\n",
    "os.makedirs(kndavi_out, exist_ok=True)\n",
    "\n",
    "profile.update(nodata=0)\n",
    "\n",
    "# Write kndavi to raster file\n",
    "with rasterio.open(os.path.join(kndavi_out, \"kndavi.tif\"), \"w\", **profile) as dst:\n",
    "    dst.write_band(1, kndavi)\n",
    "\n",
    "# Close the raster files\n",
    "sigma_raster.close()\n",
    "rgb_stack = None"
   ]
  }
 ],
 "metadata": {
  "kernelspec": {
   "display_name": "py11",
   "language": "python",
   "name": "python3"
  },
  "language_info": {
   "codemirror_mode": {
    "name": "ipython",
    "version": 3
   },
   "file_extension": ".py",
   "mimetype": "text/x-python",
   "name": "python",
   "nbconvert_exporter": "python",
   "pygments_lexer": "ipython3",
   "version": "3.11.3"
  }
 },
 "nbformat": 4,
 "nbformat_minor": 2
}
